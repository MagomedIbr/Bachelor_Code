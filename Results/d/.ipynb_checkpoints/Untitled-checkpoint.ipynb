{
 "cells": [
  {
   "cell_type": "code",
   "execution_count": 2,
   "metadata": {},
   "outputs": [
    {
     "name": "stdout",
     "output_type": "stream",
     "text": [
      "['Session 7001Unf.png', 'Session 7002Unf.png']\n",
      "['.\\\\Session 7001Unf.png', '.\\\\Session 7002Unf.png']\n"
     ]
    }
   ],
   "source": [
    "from PIL import Image\n",
    "import os\n",
    "import PIL\n",
    "import glob\n",
    "import matplotlib.pyplot as plt\n",
    "\n",
    "# path\n",
    "path = \".\"\n",
    "listing = os.listdir(path)\n",
    "\n",
    "#print (listing)\n",
    "\n",
    "# getting all path+filename in a list\n",
    "npath=[]\n",
    "im=[]\n",
    "\n",
    "for infile in listing:\n",
    "    if infile.endswith(\"png\"):\n",
    "        #print(infile)\n",
    "        im.append(infile)\n",
    "        npath.append(os.path.join(path, infile))\n",
    "print(im)\n",
    "print(npath)\n",
    "\n",
    "images = [Image.open(x) for x in im]\n",
    "widths, heights = zip(*(i.size for i in images))\n",
    "\n",
    "total_width = sum(widths)\n",
    "max_height = max(heights)\n",
    "\n",
    "new_im = Image.new('RGB', (total_width, max_height))\n",
    "\n",
    "x_offset = 0\n",
    "for im in images:\n",
    "    new_im.paste(im, (x_offset,0))\n",
    "    x_offset += im.size[0]\n",
    "\n",
    "new_im.show()\n",
    "new_im.save('UserConfMatUser2.png')"
   ]
  },
  {
   "cell_type": "code",
   "execution_count": null,
   "metadata": {},
   "outputs": [],
   "source": []
  }
 ],
 "metadata": {
  "kernelspec": {
   "display_name": "Python 3",
   "language": "python",
   "name": "python3"
  },
  "language_info": {
   "codemirror_mode": {
    "name": "ipython",
    "version": 3
   },
   "file_extension": ".py",
   "mimetype": "text/x-python",
   "name": "python",
   "nbconvert_exporter": "python",
   "pygments_lexer": "ipython3",
   "version": "3.7.5"
  }
 },
 "nbformat": 4,
 "nbformat_minor": 2
}
