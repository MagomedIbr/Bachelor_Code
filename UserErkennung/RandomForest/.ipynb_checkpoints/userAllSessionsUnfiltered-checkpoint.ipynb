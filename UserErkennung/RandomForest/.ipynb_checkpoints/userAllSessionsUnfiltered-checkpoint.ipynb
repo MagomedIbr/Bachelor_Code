{
 "cells": [
  {
   "cell_type": "code",
   "execution_count": 1,
   "metadata": {},
   "outputs": [
    {
     "name": "stderr",
     "output_type": "stream",
     "text": [
      "C:\\Users\\Magomed\\Anaconda3\\lib\\site-packages\\sklearn\\externals\\joblib\\__init__.py:15: DeprecationWarning: sklearn.externals.joblib is deprecated in 0.21 and will be removed in 0.23. Please import this functionality directly from joblib, which can be installed with: pip install joblib. If this warning is raised when loading pickled models, you may need to re-serialize those models with scikit-learn 0.21+.\n",
      "  warnings.warn(msg, category=DeprecationWarning)\n"
     ]
    }
   ],
   "source": [
    "from pathlib import Path\n",
    "import numpy as np\n",
    "import scipy as sp\n",
    "import matplotlib.pyplot as plt\n",
    "import soundfile as sf\n",
    "import pandas as pd\n",
    "\n",
    "import os \n",
    "import itertools\n",
    "import re\n",
    "import math\n",
    "import csv\n",
    "import random\n",
    "from sklearn.ensemble import RandomForestClassifier\n",
    "from sklearn import tree\n",
    "from sklearn.utils import shuffle\n",
    "from sklearn.model_selection import train_test_split\n",
    "from sklearn.model_selection import cross_val_score\n",
    "from sklearn.tree import DecisionTreeClassifier\n",
    "from sklearn.model_selection import GridSearchCV\n",
    "from sklearn.neighbors import KNeighborsClassifier\n",
    "from sklearn.linear_model import LogisticRegression\n",
    "from sklearn.naive_bayes import GaussianNB\n",
    "from sklearn import linear_model\n",
    "from sklearn.discriminant_analysis import LinearDiscriminantAnalysis\n",
    "from sklearn.svm import LinearSVC\n",
    "from sklearn.svm import SVC\n",
    "from sklearn.datasets import make_classification\n",
    "from sklearn.ensemble import GradientBoostingClassifier\n",
    "from scipy.fftpack import fftn, ifftn, fft, ifft\n",
    "from sklearn.model_selection import RandomizedSearchCV\n",
    "from sklearn.model_selection import StratifiedKFold\n",
    "from sklearn.decomposition import PCA\n",
    "from sklearn.preprocessing import StandardScaler\n",
    "from scipy import signal\n",
    "import pickle\n",
    "from sklearn.externals import joblib\n",
    "from sklearn.datasets import load_digits\n",
    "from sklearn.model_selection import learning_curve\n",
    "from sklearn.model_selection import ShuffleSplit\n",
    "import warnings\n",
    "\n",
    "warnings.filterwarnings('ignore') \n",
    "df = pd.read_csv(\"Features_10hz_200hz.csv\")\n",
    "#dfs = df[(df.modeID != 'audible')]\n"
   ]
  },
  {
   "cell_type": "code",
   "execution_count": 2,
   "metadata": {},
   "outputs": [],
   "source": [
    "def split_data_per_session(session_id):\n",
    "    temp_df = df[(df.sessionID == session_id)]\n",
    "    data = temp_df.copy()\n",
    "    data = shuffle(data)\n",
    "    y = data['modeID']\n",
    "    data.drop(labels=['userID','uttID', 'sessionID','modeID'], axis=1, inplace=True)\n",
    "    return train_test_split(data, y, test_size=0.2)\n",
    "\n",
    "def split_data_session(train_user_ids,test_user_ids):\n",
    "    temp_df = df\n",
    "    data = temp_df.copy()\n",
    "    train_df = data.loc[data['sessionID'].isin(train_user_ids)]\n",
    "    test_df = data.loc[data['sessionID'].isin(test_user_ids)]\n",
    "    X_train = train_df.copy()\n",
    "    X_test = test_df.copy()\n",
    "    y_train = X_train['userID']\n",
    "    y_test = X_test['userID']\n",
    "    X_train.drop(labels=['userID','uttID', 'sessionID','modeID'], axis=1, inplace=True)\n",
    "    X_test.drop(labels=['userID','uttID', 'sessionID','modeID'], axis=1, inplace=True)\n",
    "    return X_train, X_test, y_train, y_test \n",
    "\n",
    "def split_data_utterance(train_user_ids,test_user_ids):\n",
    "    temp_df = df\n",
    "    data = temp_df.copy()\n",
    "    train_df = data.loc[data['userID'].isin(train_user_ids)]\n",
    "    test_df = data.loc[data['userID'].isin(test_user_ids)]\n",
    "    X_train = train_df.copy()\n",
    "    X_test = test_df.copy()\n",
    "    y_train = X_train['userID']\n",
    "    y_test = X_test['userID']\n",
    "    X_train.drop(labels=['userID','uttID', 'sessionID','modeID'], axis=1, inplace=True)\n",
    "    X_test.drop(labels=['userID','uttID', 'sessionID','modeID'], axis=1, inplace=True)\n",
    "    return X_train, X_test, y_train, y_test \n",
    "\n",
    "def split_data(train_user_ids,test_user_ids):\n",
    "    temp_df = df\n",
    "    data = temp_df.copy()\n",
    "    train_df = data.loc[data['userID'].isin(train_user_ids)]\n",
    "    test_df = data.loc[data['userID'].isin(test_user_ids)]\n",
    "    X_train = train_df.copy()\n",
    "    X_test = test_df.copy()\n",
    "    y_train = X_train['modeID']\n",
    "    y_test = X_test['modeID']\n",
    "    X_train.drop(labels=['userID','uttID', 'sessionID','modeID'], axis=1, inplace=True)\n",
    "    X_test.drop(labels=['userID','uttID', 'sessionID','modeID'], axis=1, inplace=True)\n",
    "    return X_train, X_test, y_train, y_test "
   ]
  },
  {
   "cell_type": "code",
   "execution_count": 1,
   "metadata": {},
   "outputs": [],
   "source": [
    "def lda():\n",
    "    ids = [1001,1002,1003,2001,2002,2003, 2004, 2005, 2006, 2007, 2008, 2009, 2010,2011, 2012, 2013,2014,2015,2016,2017,2018,2019,2020,2021,2022,\n",
    "        2023,2024,2025,2026,2027,2028, 2029, 2030,2031, 2032,2101,4001,4002,7001,7002,8001,8002,8003,8004,8005,8006,8007,8008,8009, 8010, 8011,8012,8013,8014,8015, 8016, 8017, 8018,8019, 8101]\n",
    "    scores = np.array([])\n",
    "    for x in range (len(ids)):\n",
    "        test_ids = []\n",
    "        test_ids = ids[x:x+1]\n",
    "        train_ids = np.delete(ids,x)\n",
    "        #print (test_ids)\n",
    "        X_train, X_test, y_train, y_test = split_data_session(train_ids,test_ids)\n",
    "        k_clf = RandomForestClassifier(n_estimators = 290,max_depth= 120, min_samples_split=4,random_state= 1,max_features= 14,min_samples_leaf=2)\n",
    "        k_clf.fit(X_train, y_train)\n",
    "        score = k_clf.score(X_test, y_test)\n",
    "        sscore = np.array([score])\n",
    "        scores = np.concatenate([scores,sscore],axis=0)\n",
    "        print(\"Accuracy for session \" + str(test_ids) +\" is \"+str(score))\n",
    "    print (\"Durchschnitt: \")\n",
    "    print((scores.mean()))\n",
    "    print(scores.std())"
   ]
  },
  {
   "cell_type": "code",
   "execution_count": 4,
   "metadata": {},
   "outputs": [
    {
     "name": "stdout",
     "output_type": "stream",
     "text": [
      "Accuracy for session [1001] is 0.47333333333333333\n",
      "Accuracy for session [1002] is 0.6733333333333333\n",
      "Accuracy for session [1003] is 0.7733333333333333\n",
      "Accuracy for session [2001] is 1.0\n",
      "Accuracy for session [2002] is 0.98\n",
      "Accuracy for session [2003] is 0.9866666666666667\n",
      "Accuracy for session [2004] is 1.0\n",
      "Accuracy for session [2005] is 0.8733333333333333\n",
      "Accuracy for session [2006] is 0.84\n",
      "Accuracy for session [2007] is 0.8133333333333334\n",
      "Accuracy for session [2008] is 0.8933333333333333\n",
      "Accuracy for session [2009] is 1.0\n",
      "Accuracy for session [2010] is 1.0\n",
      "Accuracy for session [2011] is 0.82\n",
      "Accuracy for session [2012] is 0.9933333333333333\n",
      "Accuracy for session [2013] is 0.9933333333333333\n",
      "Accuracy for session [2014] is 1.0\n",
      "Accuracy for session [2015] is 1.0\n",
      "Accuracy for session [2016] is 1.0\n",
      "Accuracy for session [2017] is 1.0\n",
      "Accuracy for session [2018] is 0.98\n",
      "Accuracy for session [2019] is 0.86\n",
      "Accuracy for session [2020] is 1.0\n",
      "Accuracy for session [2021] is 1.0\n",
      "Accuracy for session [2022] is 1.0\n",
      "Accuracy for session [2023] is 1.0\n",
      "Accuracy for session [2024] is 0.98\n",
      "Accuracy for session [2025] is 0.96\n",
      "Accuracy for session [2026] is 0.29\n",
      "Accuracy for session [2027] is 0.99\n",
      "Accuracy for session [2028] is 1.0\n",
      "Accuracy for session [2029] is 0.9333333333333333\n",
      "Accuracy for session [2030] is 1.0\n",
      "Accuracy for session [2031] is 1.0\n",
      "Accuracy for session [2032] is 1.0\n",
      "Accuracy for session [2101] is 0.9826923076923076\n",
      "Accuracy for session [4001] is 0.02666666666666667\n",
      "Accuracy for session [4002] is 0.0\n",
      "Accuracy for session [7001] is 0.0\n",
      "Accuracy for session [7002] is 0.0\n",
      "Accuracy for session [8001] is 0.88\n",
      "Accuracy for session [8002] is 0.7666666666666667\n",
      "Accuracy for session [8003] is 0.8866666666666667\n",
      "Accuracy for session [8004] is 0.58\n",
      "Accuracy for session [8005] is 0.66\n",
      "Accuracy for session [8006] is 0.54\n",
      "Accuracy for session [8007] is 0.84\n",
      "Accuracy for session [8008] is 0.44\n",
      "Accuracy for session [8009] is 0.94\n",
      "Accuracy for session [8010] is 0.9733333333333334\n",
      "Accuracy for session [8011] is 0.98\n",
      "Accuracy for session [8012] is 1.0\n",
      "Accuracy for session [8013] is 0.98\n",
      "Accuracy for session [8014] is 0.98\n",
      "Accuracy for session [8015] is 0.88\n",
      "Accuracy for session [8016] is 0.94\n",
      "Accuracy for session [8017] is 0.96\n",
      "Accuracy for session [8018] is 0.9933333333333333\n",
      "Accuracy for session [8019] is 0.8666666666666667\n",
      "Accuracy for session [8101] is 0.9351669941060904\n",
      "Durchschnitt: \n",
      "0.8356309883633066\n",
      "0.270349064486554\n"
     ]
    }
   ],
   "source": [
    "lda()"
   ]
  },
  {
   "cell_type": "code",
   "execution_count": 12,
   "metadata": {
    "scrolled": false
   },
   "outputs": [
    {
     "name": "stdout",
     "output_type": "stream",
     "text": [
      "[]\n"
     ]
    }
   ],
   "source": [
    "a = np.array([])\n",
    "print (a)"
   ]
  },
  {
   "cell_type": "code",
   "execution_count": null,
   "metadata": {},
   "outputs": [],
   "source": []
  }
 ],
 "metadata": {
  "kernelspec": {
   "display_name": "Python 3",
   "language": "python",
   "name": "python3"
  },
  "language_info": {
   "codemirror_mode": {
    "name": "ipython",
    "version": 3
   },
   "file_extension": ".py",
   "mimetype": "text/x-python",
   "name": "python",
   "nbconvert_exporter": "python",
   "pygments_lexer": "ipython3",
   "version": "3.7.5"
  }
 },
 "nbformat": 4,
 "nbformat_minor": 2
}
