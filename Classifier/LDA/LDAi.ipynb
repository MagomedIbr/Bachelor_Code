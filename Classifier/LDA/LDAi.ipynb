{
 "cells": [
  {
   "cell_type": "code",
   "execution_count": 3,
   "metadata": {},
   "outputs": [
    {
     "name": "stderr",
     "output_type": "stream",
     "text": [
      "C:\\Users\\Magomed\\Anaconda3\\lib\\site-packages\\sklearn\\externals\\joblib\\__init__.py:15: DeprecationWarning: sklearn.externals.joblib is deprecated in 0.21 and will be removed in 0.23. Please import this functionality directly from joblib, which can be installed with: pip install joblib. If this warning is raised when loading pickled models, you may need to re-serialize those models with scikit-learn 0.21+.\n",
      "  warnings.warn(msg, category=DeprecationWarning)\n"
     ]
    }
   ],
   "source": [
    "from pathlib import Path\n",
    "import numpy as np\n",
    "import scipy as sp\n",
    "import matplotlib.pyplot as plt\n",
    "import soundfile as sf\n",
    "import pandas as pd\n",
    "\n",
    "import os \n",
    "import itertools\n",
    "import re\n",
    "import math\n",
    "import csv\n",
    "import random\n",
    "from sklearn import tree\n",
    "from sklearn.utils import shuffle\n",
    "from sklearn.model_selection import train_test_split\n",
    "from sklearn.model_selection import cross_val_score\n",
    "from sklearn.tree import DecisionTreeClassifier\n",
    "from sklearn.model_selection import GridSearchCV\n",
    "from sklearn.neighbors import KNeighborsClassifier\n",
    "from sklearn.linear_model import LogisticRegression\n",
    "from sklearn.naive_bayes import GaussianNB\n",
    "from sklearn import linear_model\n",
    "from sklearn.discriminant_analysis import LinearDiscriminantAnalysis\n",
    "from sklearn.svm import LinearSVC\n",
    "from sklearn.svm import SVC\n",
    "from sklearn.datasets import make_classification\n",
    "from sklearn.ensemble import GradientBoostingClassifier\n",
    "from scipy.fftpack import fftn, ifftn, fft, ifft\n",
    "from sklearn.model_selection import RandomizedSearchCV\n",
    "from sklearn.model_selection import StratifiedKFold\n",
    "from sklearn.decomposition import PCA\n",
    "from sklearn.preprocessing import StandardScaler\n",
    "from scipy import signal\n",
    "import pickle\n",
    "from sklearn.externals import joblib\n",
    "from sklearn.datasets import load_digits\n",
    "from sklearn.model_selection import learning_curve\n",
    "from sklearn.model_selection import ShuffleSplit\n",
    "import warnings\n",
    "\n",
    "warnings.filterwarnings('ignore') \n",
    "df = pd.read_csv(\"Features_all.csv\")"
   ]
  },
  {
   "cell_type": "code",
   "execution_count": 4,
   "metadata": {},
   "outputs": [],
   "source": [
    "def split_data_per_session(session_id):\n",
    "    temp_df = df[(df.sessionID == session_id)]\n",
    "    data = temp_df.copy()\n",
    "    y = data['modeID']\n",
    "    data.drop(labels=['userID','uttID', 'sessionID','modeID'], axis=1, inplace=True)\n",
    "    return train_test_split(data, y, test_size=0.25)\n",
    "\n",
    "def split_data():\n",
    "    temp_df = df\n",
    "    data = temp_df.copy()\n",
    "    y = data['modeID']\n",
    "    data.drop(labels=['userID','uttID', 'sessionID','modeID'], axis=1, inplace=True)\n",
    "    return train_test_split(data, y, test_size=0.25)\n",
    "\n",
    "def split_data_per_user(user_id):\n",
    "    temp_df = df[(df.userID == user_id)]\n",
    "    data = temp_df.copy()\n",
    "    y = data['modeID']\n",
    "    data.drop(labels=['userID','uttID', 'sessionID','modeID'], axis=1, inplace=True)\n",
    "    return train_test_split(data, y, test_size=0.25)"
   ]
  },
  {
   "cell_type": "code",
   "execution_count": 7,
   "metadata": {},
   "outputs": [],
   "source": [
    "def lda_all_users_separately():\n",
    "    user_ids = np.unique(df.userID)\n",
    "    for user_id in user_ids:\n",
    "        X_train, X_test, y_train, y_test = split_data_per_user(user_id)\n",
    "        k_clf = LinearDiscriminantAnalysis()\n",
    "        parameter_grid = {}\n",
    "        clf = GridSearchCV(k_clf, parameter_grid, cv=10)\n",
    "        k_clf.fit(X_train, y_train)\n",
    "        score = k_clf.score(X_test, y_test)\n",
    "        if(score!=1.0):\n",
    "            print(\"Accuracy for user \" + str(user_id) + \" is \" + str(k_clf.score(X_test, y_test)))\n",
    "\n",
    "def lda_all():\n",
    "    X_train, X_test, y_train, y_test = split_data()\n",
    "    k_clf = LinearDiscriminantAnalysis()\n",
    "    parameter_grid = {}\n",
    "    clf = GridSearchCV(k_clf, parameter_grid, cv=10)\n",
    "    k_clf.fit(X_train, y_train)\n",
    "    print(\"Accuracy for all users is \"+str(k_clf.score(X_test, y_test)))\n",
    "    \n",
    "def lda_all_sessions_separately():\n",
    "    sessionIDs = np.unique(df.sessionID)\n",
    "    for sessionID in sessionIDs:\n",
    "        X_train, X_test, y_train, y_test = split_data_per_session(sessionID)\n",
    "        k_clf = LinearDiscriminantAnalysis()\n",
    "        parameter_grid = {}\n",
    "        clf = GridSearchCV(k_clf, parameter_grid, cv=10)\n",
    "        k_clf.fit(X_train, y_train)\n",
    "        score = k_clf.score(X_test, y_test)\n",
    "        if(score!=1.0):\n",
    "            print(\"Accuracy for session \" + str(sessionID) + \" is \" + str(score))"
   ]
  },
  {
   "cell_type": "code",
   "execution_count": 11,
   "metadata": {},
   "outputs": [
    {
     "name": "stdout",
     "output_type": "stream",
     "text": [
      "Accuracy for user 1 is 0.7699115044247787\n",
      "Accuracy for user 2 is 0.6064516129032258\n",
      "Accuracy for user 3 is 0.7631578947368421\n",
      "Accuracy for user 4 is 0.5866666666666667\n",
      "Accuracy for user 5 is 0.7105263157894737\n",
      "Accuracy for user 6 is 0.5526315789473685\n",
      "Accuracy for user 7 is 0.5466666666666666\n",
      "Accuracy for user 8 is 0.7092592592592593\n"
     ]
    }
   ],
   "source": [
    "lda_all_users_separately()"
   ]
  },
  {
   "cell_type": "code",
   "execution_count": 18,
   "metadata": {},
   "outputs": [
    {
     "name": "stdout",
     "output_type": "stream",
     "text": [
      "Accuracy for all users is 0.6048780487804878\n"
     ]
    }
   ],
   "source": [
    "lda_all()"
   ]
  },
  {
   "cell_type": "code",
   "execution_count": 13,
   "metadata": {},
   "outputs": [
    {
     "name": "stdout",
     "output_type": "stream",
     "text": [
      "Accuracy for session 1001 is 0.8421052631578947\n",
      "Accuracy for session 1002 is 0.7631578947368421\n",
      "Accuracy for session 1003 is 0.7631578947368421\n",
      "Accuracy for session 2001 is 0.631578947368421\n",
      "Accuracy for session 2003 is 0.47368421052631576\n",
      "Accuracy for session 2004 is 0.42105263157894735\n",
      "Accuracy for session 2005 is 0.47368421052631576\n",
      "Accuracy for session 2006 is 0.8157894736842105\n",
      "Accuracy for session 2007 is 0.6578947368421053\n",
      "Accuracy for session 2008 is 0.6052631578947368\n",
      "Accuracy for session 2009 is 0.6052631578947368\n",
      "Accuracy for session 2010 is 0.6842105263157895\n",
      "Accuracy for session 2012 is 0.6578947368421053\n",
      "Accuracy for session 2013 is 0.7631578947368421\n",
      "Accuracy for session 2028 is 0.23684210526315788\n",
      "Accuracy for session 2029 is 0.6842105263157895\n",
      "Accuracy for session 2031 is 0.5263157894736842\n",
      "Accuracy for session 2032 is 0.5789473684210527\n",
      "Accuracy for session 3001 is 0.7105263157894737\n",
      "Accuracy for session 4001 is 0.8947368421052632\n",
      "Accuracy for session 4002 is 0.6052631578947368\n",
      "Accuracy for session 5001 is 0.7368421052631579\n",
      "Accuracy for session 6001 is 0.6578947368421053\n",
      "Accuracy for session 7001 is 0.6578947368421053\n",
      "Accuracy for session 7002 is 0.8947368421052632\n",
      "Accuracy for session 8002 is 0.5789473684210527\n",
      "Accuracy for session 8003 is 0.47368421052631576\n",
      "Accuracy for session 8010 is 0.47368421052631576\n",
      "Accuracy for session 8016 is 0.4473684210526316\n",
      "Accuracy for session 8017 is 0.5\n",
      "Accuracy for session 8018 is 0.2894736842105263\n",
      "Accuracy for session 8019 is 0.39473684210526316\n"
     ]
    }
   ],
   "source": [
    "lda_all_sessions_separately()"
   ]
  },
  {
   "cell_type": "code",
   "execution_count": null,
   "metadata": {},
   "outputs": [],
   "source": [
    "#Die Session mit einem Score von 1.0 \n",
    "#sind Sessions die jediglich 'Audible' audios enthalten"
   ]
  },
  {
   "cell_type": "code",
   "execution_count": null,
   "metadata": {},
   "outputs": [],
   "source": []
  }
 ],
 "metadata": {
  "kernelspec": {
   "display_name": "Python 3",
   "language": "python",
   "name": "python3"
  },
  "language_info": {
   "codemirror_mode": {
    "name": "ipython",
    "version": 3
   },
   "file_extension": ".py",
   "mimetype": "text/x-python",
   "name": "python",
   "nbconvert_exporter": "python",
   "pygments_lexer": "ipython3",
   "version": "3.7.5"
  }
 },
 "nbformat": 4,
 "nbformat_minor": 2
}
